{
 "cells": [
  {
   "cell_type": "code",
   "execution_count": null,
   "id": "initial_id",
   "metadata": {
    "collapsed": true
   },
   "outputs": [],
   "source": [
    "from data import FShapeFileReader, FShapeDirectoryReader\n",
    "\n",
    "motif = FShapeFileReader(\"data/HNRNPC/hnrnpc_expected_pattern.txt\").read()\n",
    "sequences = FShapeDirectoryReader(\"data/HNRNPC/hnrnpc_binding_sites_fshape\").read()"
   ]
  },
  {
   "cell_type": "code",
   "execution_count": null,
   "outputs": [],
   "source": [
    "from tools import PromisingMotifsFinder\n",
    "\n",
    "motif_length = len(motif)\n",
    "promising_motifs = {length: [] for length in range(motif_length, motif_length + 3)}\n",
    "for length in promising_motifs.keys():\n",
    "    pmf = PromisingMotifsFinder(motif)\n",
    "    for s in sequences:\n",
    "        promising_motifs[length].extend(pmf.find(s, length))"
   ],
   "metadata": {
    "collapsed": false
   },
   "id": "4355b17a5a8ba23"
  },
  {
   "cell_type": "code",
   "execution_count": null,
   "outputs": [],
   "source": [
    "from tools import DBScanClusterer\n",
    "\n",
    "db_clusters = {length: [] for length in promising_motifs.keys()}\n",
    "epss = (0.8, 1.15, 1.5)\n",
    "for length, eps in zip(promising_motifs.keys(), epss):\n",
    "    db_clusters[length] = DBScanClusterer(eps=eps).transform(promising_motifs[length])\n",
    "\n",
    "db_clusters"
   ],
   "metadata": {
    "collapsed": false
   },
   "id": "33baffcacaff908f"
  },
  {
   "cell_type": "code",
   "execution_count": null,
   "outputs": [],
   "source": [
    "from tools import AgglomerativeClusterer\n",
    "\n",
    "db_clusters = {length: [] for length in promising_motifs.keys()}\n",
    "for length in promising_motifs.keys():\n",
    "    db_clusters[length] = AgglomerativeClusterer().transform(promising_motifs[length])\n",
    "\n",
    "db_clusters"
   ],
   "metadata": {
    "collapsed": false
   },
   "id": "8c1ebba0572689f8"
  }
 ],
 "metadata": {
  "kernelspec": {
   "display_name": "Python 3",
   "language": "python",
   "name": "python3"
  },
  "language_info": {
   "codemirror_mode": {
    "name": "ipython",
    "version": 2
   },
   "file_extension": ".py",
   "mimetype": "text/x-python",
   "name": "python",
   "nbconvert_exporter": "python",
   "pygments_lexer": "ipython2",
   "version": "2.7.6"
  }
 },
 "nbformat": 4,
 "nbformat_minor": 5
}
