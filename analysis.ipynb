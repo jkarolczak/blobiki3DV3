{
 "cells": [
  {
   "cell_type": "code",
   "execution_count": 1,
   "id": "initial_id",
   "metadata": {
    "collapsed": true,
    "ExecuteTime": {
     "end_time": "2024-03-18T20:51:19.889369Z",
     "start_time": "2024-03-18T20:51:19.591535Z"
    }
   },
   "outputs": [],
   "source": [
    "from data import FShapeFileReader, FShapeDirectoryReader\n",
    "\n",
    "motif = FShapeFileReader(\"data/HNRNPC/hnrnpc_expected_pattern.txt\").read()\n",
    "sequences = FShapeDirectoryReader(\"data/HNRNPC/hnrnpc_binding_sites_fshape\").read()"
   ]
  },
  {
   "cell_type": "code",
   "execution_count": 2,
   "outputs": [],
   "source": [
    "from tools import PromisingMotifsFinder\n",
    "\n",
    "motif_length = len(motif)\n",
    "promising_motifs = {length: [] for length in range(motif_length, motif_length + 3)}\n",
    "for length in promising_motifs.keys():\n",
    "    pmf = PromisingMotifsFinder(motif)\n",
    "    for s in sequences:\n",
    "        promising_motifs[length].extend(pmf.find(s, length))"
   ],
   "metadata": {
    "collapsed": false,
    "ExecuteTime": {
     "end_time": "2024-03-18T20:51:21.314204Z",
     "start_time": "2024-03-18T20:51:19.891332Z"
    }
   },
   "id": "4355b17a5a8ba23"
  },
  {
   "cell_type": "code",
   "outputs": [],
   "source": [
    "for key, value in promising_motifs.items():\n",
    "    print(key, len(value))"
   ],
   "metadata": {
    "collapsed": false
   },
   "id": "bb8e9af2bf163230",
   "execution_count": null
  },
  {
   "cell_type": "code",
   "execution_count": null,
   "outputs": [],
   "source": [
    "from tools import DBScanClusterer\n",
    "\n",
    "db_clusters = {length: [] for length in promising_motifs.keys()}\n",
    "epss = (0.8, 1.15, 1.5)\n",
    "for length, eps in zip(promising_motifs.keys(), epss):\n",
    "    db_clusters[length] = DBScanClusterer(eps=eps).transform(promising_motifs[length])\n",
    "\n",
    "db_clusters"
   ],
   "metadata": {
    "collapsed": false
   },
   "id": "33baffcacaff908f"
  },
  {
   "cell_type": "code",
   "execution_count": null,
   "outputs": [],
   "source": [
    "from tools import AgglomerativeClusterer\n",
    "\n",
    "db_clusters = {length: [] for length in promising_motifs.keys()}\n",
    "for length in promising_motifs.keys():\n",
    "    db_clusters[length] = AgglomerativeClusterer().transform(promising_motifs[length])\n",
    "\n",
    "db_clusters"
   ],
   "metadata": {
    "collapsed": false
   },
   "id": "8c1ebba0572689f8"
  },
  {
   "cell_type": "code",
   "outputs": [],
   "source": [
    "from tools import ConsensusMotifs\n",
    "\n",
    "consensus_motifs = ConsensusMotifs().compute_consensus(promising_motifs, db_clusters)\n",
    "consensus_motifs"
   ],
   "metadata": {
    "collapsed": false
   },
   "id": "a0faa1ab56fe8781",
   "execution_count": null
  }
 ],
 "metadata": {
  "kernelspec": {
   "display_name": "Python 3",
   "language": "python",
   "name": "python3"
  },
  "language_info": {
   "codemirror_mode": {
    "name": "ipython",
    "version": 2
   },
   "file_extension": ".py",
   "mimetype": "text/x-python",
   "name": "python",
   "nbconvert_exporter": "python",
   "pygments_lexer": "ipython2",
   "version": "2.7.6"
  }
 },
 "nbformat": 4,
 "nbformat_minor": 5
}
