{
 "cells": [
  {
   "cell_type": "code",
   "execution_count": null,
   "id": "initial_id",
   "metadata": {
    "collapsed": true
   },
   "outputs": [],
   "source": [
    "import subprocess\n",
    "\n",
    "partitioning = (\"small_balanced\", \"small_random\", \"mid_balanced\", \"mid_random\", \"large_balanced\", \"large_random\")\n",
    "algorithms = (\"fedavg\", \"fedprox\")\n",
    "communication_rounds = (20, 30)\n",
    "\n",
    "outputs = {p: {a: {c: None for c in communication_rounds} for a in algorithms} for p in partitioning}\n",
    "\n",
    "for partition in partitioning:\n",
    "    for alg in algorithms:\n",
    "        for rounds in communication_rounds:\n",
    "            command = f\"python experiments.py --dataset=clinical --model=mlp --device=cpu --comm_round={rounds} --n_parties=10 --partition={partition} --alg={alg}\"\n",
    "            print(f\"Executing `{command}`\")\n",
    "            process = subprocess.Popen(command.split(), stdout=subprocess.PIPE, stderr=subprocess.PIPE)\n",
    "            _, output = process.communicate()\n",
    "            outputs[partition][alg][rounds] = output"
   ]
  },
  {
   "cell_type": "code",
   "execution_count": null,
   "outputs": [],
   "source": [
    "import re\n",
    "\n",
    "\n",
    "def extract_test_history(outputs_: dict[str, dict[int, dict[str, bytes]]]) -> dict[\n",
    "    str, dict[int, dict[str, list[float]]]]:\n",
    "    result = {p: {a: {c: [] for c in communication_rounds} for a in algorithms} for p in partitioning}\n",
    "    regex = \"net \\d+ final test acc (\\d+[.]\\d+)\"\n",
    "    for partition in partitioning:\n",
    "        for alg in algorithms:\n",
    "            for rounds in communication_rounds:\n",
    "                snippet = outputs_[partition][alg][rounds].decode().split(\"in comm round:\")\n",
    "                for subsnippet in snippet[1:]:\n",
    "                    result[partition][alg][rounds].append(\n",
    "                        re.findall(\n",
    "                            regex,\n",
    "                            subsnippet\n",
    "                        )\n",
    "                    )\n",
    "    return result"
   ],
   "metadata": {
    "collapsed": false
   },
   "id": "297a10d0ac1e49e6"
  },
  {
   "cell_type": "code",
   "execution_count": null,
   "outputs": [],
   "source": [
    "extract_test_history(outputs)"
   ],
   "metadata": {
    "collapsed": false
   },
   "id": "e7f7069b097376eb"
  }
 ],
 "metadata": {
  "kernelspec": {
   "display_name": "Python 3",
   "language": "python",
   "name": "python3"
  },
  "language_info": {
   "codemirror_mode": {
    "name": "ipython",
    "version": 2
   },
   "file_extension": ".py",
   "mimetype": "text/x-python",
   "name": "python",
   "nbconvert_exporter": "python",
   "pygments_lexer": "ipython2",
   "version": "2.7.6"
  }
 },
 "nbformat": 4,
 "nbformat_minor": 5
}
